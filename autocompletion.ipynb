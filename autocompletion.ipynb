{
 "cells": [
  {
   "cell_type": "markdown",
   "metadata": {
    "id": "goZynvEwDbVO"
   },
   "source": [
    "# Personalized Code Auto-Completion Model"
   ]
  },
  {
   "cell_type": "code",
   "execution_count": null,
   "metadata": {
    "colab": {
     "base_uri": "https://localhost:8080/",
     "height": 54
    },
    "executionInfo": {
     "elapsed": 3984,
     "status": "ok",
     "timestamp": 1598462725789,
     "user": {
      "displayName": "yiran cao",
      "photoUrl": "",
      "userId": "15429682256155533358"
     },
     "user_tz": 240
    },
    "id": "DHCkNtHJDarb",
    "outputId": "96a9c307-922f-4a92-f60e-d88f6206ce1f"
   },
   "outputs": [
    {
     "data": {
      "text/plain": [
       "True"
      ]
     },
     "execution_count": 1,
     "metadata": {
      "tags": []
     },
     "output_type": "execute_result"
    }
   ],
   "source": [
    "# Check whether GPU is available\n",
    "import torch\n",
    "torch.cuda.is_available()"
   ]
  },
  {
   "cell_type": "code",
   "execution_count": null,
   "metadata": {
    "colab": {
     "base_uri": "https://localhost:8080/",
     "height": 377
    },
    "executionInfo": {
     "elapsed": 3977,
     "status": "ok",
     "timestamp": 1598462725790,
     "user": {
      "displayName": "yiran cao",
      "photoUrl": "",
      "userId": "15429682256155533358"
     },
     "user_tz": 240
    },
    "id": "WECXNLl86qcc",
    "outputId": "a605573d-72f6-453c-85cc-3ae156d895aa"
   },
   "outputs": [
    {
     "name": "stdout",
     "output_type": "stream",
     "text": [
      "Wed Aug 26 17:25:25 2020       \n",
      "+-----------------------------------------------------------------------------+\n",
      "| NVIDIA-SMI 450.57       Driver Version: 418.67       CUDA Version: 10.1     |\n",
      "|-------------------------------+----------------------+----------------------+\n",
      "| GPU  Name        Persistence-M| Bus-Id        Disp.A | Volatile Uncorr. ECC |\n",
      "| Fan  Temp  Perf  Pwr:Usage/Cap|         Memory-Usage | GPU-Util  Compute M. |\n",
      "|                               |                      |               MIG M. |\n",
      "|===============================+======================+======================|\n",
      "|   0  Tesla P100-PCIE...  Off  | 00000000:00:04.0 Off |                    0 |\n",
      "| N/A   34C    P0    27W / 250W |     10MiB / 16280MiB |      0%      Default |\n",
      "|                               |                      |                 ERR! |\n",
      "+-------------------------------+----------------------+----------------------+\n",
      "                                                                               \n",
      "+-----------------------------------------------------------------------------+\n",
      "| Processes:                                                                  |\n",
      "|  GPU   GI   CI        PID   Type   Process name                  GPU Memory |\n",
      "|        ID   ID                                                   Usage      |\n",
      "|=============================================================================|\n",
      "|  No running processes found                                                 |\n",
      "+-----------------------------------------------------------------------------+\n"
     ]
    }
   ],
   "source": [
    "# Check how much memory is available\n",
    "!nvidia-smi "
   ]
  },
  {
   "cell_type": "code",
   "execution_count": null,
   "metadata": {
    "colab": {
     "base_uri": "https://localhost:8080/",
     "height": 207
    },
    "executionInfo": {
     "elapsed": 4088,
     "status": "ok",
     "timestamp": 1598462725905,
     "user": {
      "displayName": "yiran cao",
      "photoUrl": "",
      "userId": "15429682256155533358"
     },
     "user_tz": 240
    },
    "id": "U1YWIkMr6tMD",
    "outputId": "60c50347-eab2-4db3-f3eb-7559d2f5fa79"
   },
   "outputs": [
    {
     "name": "stdout",
     "output_type": "stream",
     "text": [
      "Filesystem      Size  Used Avail Use% Mounted on\n",
      "overlay          69G   31G   35G  48% /\n",
      "tmpfs            64M     0   64M   0% /dev\n",
      "tmpfs           6.4G     0  6.4G   0% /sys/fs/cgroup\n",
      "shm             5.8G     0  5.8G   0% /dev/shm\n",
      "tmpfs           6.4G   16K  6.4G   1% /var/colab\n",
      "/dev/sda1        75G   32G   43G  43% /opt/bin\n",
      "tmpfs           6.4G     0  6.4G   0% /proc/acpi\n",
      "tmpfs           6.4G     0  6.4G   0% /proc/scsi\n",
      "tmpfs           6.4G     0  6.4G   0% /sys/firmware\n"
     ]
    }
   ],
   "source": [
    "# Check how much storage is left on disk\n",
    "!df -h "
   ]
  },
  {
   "cell_type": "markdown",
   "metadata": {
    "id": "vGIN3qUXDjSB"
   },
   "source": [
    "# Imports"
   ]
  },
  {
   "cell_type": "code",
   "execution_count": null,
   "metadata": {
    "id": "WOXdP8mn7Y9L"
   },
   "outputs": [],
   "source": [
    "%matplotlib inline\n",
    "import matplotlib.pyplot as plt\n",
    "import numpy as np\n",
    "import torch\n",
    "import math\n",
    "from torch import nn\n",
    "from sklearn.model_selection import train_test_split"
   ]
  },
  {
   "cell_type": "markdown",
   "metadata": {
    "id": "fBry-HW-Dmai"
   },
   "source": [
    "# Data preprocessing"
   ]
  },
  {
   "cell_type": "markdown",
   "metadata": {
    "id": "_zXTO0AExN1h"
   },
   "source": [
    "### Data ingestion"
   ]
  },
  {
   "cell_type": "code",
   "execution_count": null,
   "metadata": {
    "colab": {
     "base_uri": "https://localhost:8080/",
     "height": 54
    },
    "executionInfo": {
     "elapsed": 10763,
     "status": "ok",
     "timestamp": 1588481318237,
     "user": {
      "displayName": "yiran cao",
      "photoUrl": "",
      "userId": "15429682256155533358"
     },
     "user_tz": 240
    },
    "id": "AhDEi7-D7hi-",
    "outputId": "c7c5762d-abe6-4994-de37-a2699dc39cc1"
   },
   "outputs": [
    {
     "name": "stdout",
     "output_type": "stream",
     "text": [
      "['D', 'I', '_', '@', '`', 'c', 'N', 'R', 'V', 'k', 'q', '}', 'z', ',', 'B', '7', '6', '.', 'j', '$', '(', '/', 'F', '[', ':', 'G', 'x', '{', 'l', 'Y', 'b', 't', '+', '%', '>', '1', 'O', '*', '~', 'P', 'd', '0', '&', '\\t', 'E', '^', '=', 'f', 'S', 'h', 'p', '\\\\', 'm', '?', 'H', '!', 'T', '\\n', '|', 'U', 'M', 'J', 'n', 'e', 'i', '8', '5', 'w', ';', 'Z', ')', 'L', 'v', 'r', 'K', 'a', '<', 'y', ' ', 'W', 'A', '3', '9', '-', 'Q', 'g', 'X', 's', 'o', '2', '\"', 'C', ']', '4', 'u', \"'\"]\n"
     ]
    }
   ],
   "source": [
    "# Data loading\n",
    "with open('autocomplete.txt', 'r') as f:\n",
    "    data = f.read()\n",
    "\n",
    "# A tuple of distinct characters\n",
    "chars = list(set(data))\n",
    "print(chars)"
   ]
  },
  {
   "cell_type": "markdown",
   "metadata": {
    "id": "5uyRAlOixWg9"
   },
   "source": [
    "### Data encoder"
   ]
  },
  {
   "cell_type": "code",
   "execution_count": null,
   "metadata": {
    "colab": {
     "base_uri": "https://localhost:8080/",
     "height": 71
    },
    "executionInfo": {
     "elapsed": 10752,
     "status": "ok",
     "timestamp": 1588481318238,
     "user": {
      "displayName": "yiran cao",
      "photoUrl": "",
      "userId": "15429682256155533358"
     },
     "user_tz": 240
    },
    "id": "M9P38IrIxich",
    "outputId": "7aa46ccc-2be2-4f49-e3df-185e7bff5ea4"
   },
   "outputs": [
    {
     "name": "stdout",
     "output_type": "stream",
     "text": [
      "{0: 'D', 1: 'I', 2: '_', 3: '@', 4: '`', 5: 'c', 6: 'N', 7: 'R', 8: 'V', 9: 'k', 10: 'q', 11: '}', 12: 'z', 13: ',', 14: 'B', 15: '7', 16: '6', 17: '.', 18: 'j', 19: '$', 20: '(', 21: '/', 22: 'F', 23: '[', 24: ':', 25: 'G', 26: 'x', 27: '{', 28: 'l', 29: 'Y', 30: 'b', 31: 't', 32: '+', 33: '%', 34: '>', 35: '1', 36: 'O', 37: '*', 38: '~', 39: 'P', 40: 'd', 41: '0', 42: '&', 43: '\\t', 44: 'E', 45: '^', 46: '=', 47: 'f', 48: 'S', 49: 'h', 50: 'p', 51: '\\\\', 52: 'm', 53: '?', 54: 'H', 55: '!', 56: 'T', 57: '\\n', 58: '|', 59: 'U', 60: 'M', 61: 'J', 62: 'n', 63: 'e', 64: 'i', 65: '8', 66: '5', 67: 'w', 68: ';', 69: 'Z', 70: ')', 71: 'L', 72: 'v', 73: 'r', 74: 'K', 75: 'a', 76: '<', 77: 'y', 78: ' ', 79: 'W', 80: 'A', 81: '3', 82: '9', 83: '-', 84: 'Q', 85: 'g', 86: 'X', 87: 's', 88: 'o', 89: '2', 90: '\"', 91: 'C', 92: ']', 93: '4', 94: 'u', 95: \"'\"}\n",
      "{'D': 0, 'I': 1, '_': 2, '@': 3, '`': 4, 'c': 5, 'N': 6, 'R': 7, 'V': 8, 'k': 9, 'q': 10, '}': 11, 'z': 12, ',': 13, 'B': 14, '7': 15, '6': 16, '.': 17, 'j': 18, '$': 19, '(': 20, '/': 21, 'F': 22, '[': 23, ':': 24, 'G': 25, 'x': 26, '{': 27, 'l': 28, 'Y': 29, 'b': 30, 't': 31, '+': 32, '%': 33, '>': 34, '1': 35, 'O': 36, '*': 37, '~': 38, 'P': 39, 'd': 40, '0': 41, '&': 42, '\\t': 43, 'E': 44, '^': 45, '=': 46, 'f': 47, 'S': 48, 'h': 49, 'p': 50, '\\\\': 51, 'm': 52, '?': 53, 'H': 54, '!': 55, 'T': 56, '\\n': 57, '|': 58, 'U': 59, 'M': 60, 'J': 61, 'n': 62, 'e': 63, 'i': 64, '8': 65, '5': 66, 'w': 67, ';': 68, 'Z': 69, ')': 70, 'L': 71, 'v': 72, 'r': 73, 'K': 74, 'a': 75, '<': 76, 'y': 77, ' ': 78, 'W': 79, 'A': 80, '3': 81, '9': 82, '-': 83, 'Q': 84, 'g': 85, 'X': 86, 's': 87, 'o': 88, '2': 89, '\"': 90, 'C': 91, ']': 92, '4': 93, 'u': 94, \"'\": 95}\n"
     ]
    }
   ],
   "source": [
    "# Hash tables for encoding\n",
    "# int2char: integer -> character\n",
    "# char2int: character -> integer\n",
    "\n",
    "int2char = dict(enumerate(chars))\n",
    "print(int2char)\n",
    "char2int = dict(map(reversed, int2char.items()))\n",
    "print(char2int)"
   ]
  },
  {
   "cell_type": "markdown",
   "metadata": {
    "id": "gX0aKILex0rC"
   },
   "source": [
    "### Data loader"
   ]
  },
  {
   "cell_type": "code",
   "execution_count": null,
   "metadata": {
    "id": "802M_EeI2Rq8"
   },
   "outputs": [],
   "source": [
    "# Load data batch by batch\n",
    "def data_loader(data, num_seqs, seq_length):\n",
    "    data = np.array(list(data))\n",
    "    batch_size = num_seqs * seq_length\n",
    "    num_batches = len(data) // batch_size\n",
    "    data = data[:num_batches * batch_size]\n",
    "    data = data.reshape((num_seqs, -1))\n",
    "    \n",
    "    for n in range(0, data.shape[1] - seq_length, seq_length):\n",
    "        input_seqs = data[:, n:n + seq_length]\n",
    "        labels = np.zeros_like(input_seqs)\n",
    "        labels[:, :-1], labels[:, -1] = input_seqs[:, 1:], data[:, n + seq_length]\n",
    "        yield input_seqs, labels"
   ]
  },
  {
   "cell_type": "markdown",
   "metadata": {
    "id": "FP94j4Y5DpdQ"
   },
   "source": [
    "# Model architecture"
   ]
  },
  {
   "cell_type": "markdown",
   "metadata": {
    "id": "QVerM_3Zzy0l"
   },
   "source": [
    "### Model hyperparameters"
   ]
  },
  {
   "cell_type": "code",
   "execution_count": null,
   "metadata": {
    "id": "h8wCLcE2zyNq"
   },
   "outputs": [],
   "source": [
    "# Initialize the model hyperparameters\n",
    "num_epochs=10\n",
    "num_seqs=1024 # 1024 samples in one batch\n",
    "seq_length=6 # input sequences have 6 chars\n",
    "num_chars = len(chars) # number of distinct characters\n",
    "\n",
    "lr=0.001 # learning rate\n",
    "device = torch.device(\"cuda:0\") # Use GPU"
   ]
  },
  {
   "cell_type": "markdown",
   "metadata": {
    "id": "vJMF_CFQz3yk"
   },
   "source": [
    "### Helper functions\n"
   ]
  },
  {
   "cell_type": "code",
   "execution_count": null,
   "metadata": {
    "id": "FHGQFDItHIxs"
   },
   "outputs": [],
   "source": [
    "# Convert integer into one hot encoding\n",
    "# 0 -> [1, 0, 0 ...]\n",
    "# 1 -> [0, 1, 0 ...]\n",
    "def one_hot_encoding(input_seqs, num_chars):\n",
    "    \n",
    "    one_hot = np.zeros((input_seqs.shape[0] * input_seqs.shape[1], num_chars), dtype=np.float32)\n",
    "\n",
    "    # Fill in ones corresponding to the index\n",
    "    one_hot[np.arange(input_seqs.shape[0] * input_seqs.shape[1]), input_seqs.ravel()] = 1\n",
    "\n",
    "    # Reshape it to (num_seqs, sequence_length, num_chars)\n",
    "    one_hot = one_hot.reshape((input_seqs.shape[0], input_seqs.shape[1], num_chars))\n",
    "\n",
    "    return one_hot\n",
    "\n",
    "# save the model parameters and hyparameters into a file\n",
    "def save_checkpoint(net, optimizer, filename, train_history={}):\n",
    "    checkpoint = {'n_hidden': net.n_hidden,\n",
    "                  'n_layers': net.n_layers,\n",
    "                  'state_dict': net.state_dict(),\n",
    "                  'optimizer': optimizer.state_dict(),\n",
    "                  'tokens': net.chars,\n",
    "                  'train_history': train_history}\n",
    "\n",
    "    with open(filename, 'wb') as f:\n",
    "        torch.save(checkpoint, f)\n",
    "\n",
    "# load the model parameters and hyparameters from a file\n",
    "def load_checkpoint(filename):\n",
    "    with open(filename, 'rb') as f:\n",
    "        checkpoint = torch.load(f, map_location='cpu')\n",
    "\n",
    "    net = CharRNN(checkpoint['tokens'], n_hidden=checkpoint['n_hidden'], n_layers=checkpoint['n_layers'])\n",
    "    net.load_state_dict(checkpoint['state_dict'])\n",
    "\n",
    "    return net"
   ]
  },
  {
   "cell_type": "code",
   "execution_count": null,
   "metadata": {
    "colab": {
     "base_uri": "https://localhost:8080/",
     "height": 136
    },
    "executionInfo": {
     "elapsed": 10730,
     "status": "ok",
     "timestamp": 1588481318240,
     "user": {
      "displayName": "yiran cao",
      "photoUrl": "",
      "userId": "15429682256155533358"
     },
     "user_tz": 240
    },
    "id": "Xovwx16be2Ce",
    "outputId": "a2279f58-9862-48d4-935d-fdaa9574ac27"
   },
   "outputs": [
    {
     "name": "stdout",
     "output_type": "stream",
     "text": [
      "[[[1. 0. 0.]\n",
      "  [0. 1. 0.]\n",
      "  [0. 0. 1.]]\n",
      "\n",
      " [[1. 0. 0.]\n",
      "  [0. 1. 0.]\n",
      "  [0. 0. 1.]]]\n"
     ]
    }
   ],
   "source": [
    "# Testing one_hot_encoding is correct or not\n",
    "one_hot = one_hot_encoding(np.array([[0, 1, 2],[0, 1, 2]]), 3)\n",
    "print(one_hot)"
   ]
  },
  {
   "cell_type": "markdown",
   "metadata": {
    "id": "pNd2cZClz8qM"
   },
   "source": [
    "### Architecture"
   ]
  },
  {
   "cell_type": "code",
   "execution_count": null,
   "metadata": {
    "id": "f2f0O7NLEGxJ"
   },
   "outputs": [],
   "source": [
    "class CharRNN(nn.Module):\n",
    "    def __init__(self, tokens, n_hidden=256, n_layers=3, drop_prob=0.5):\n",
    "        super().__init__()\n",
    "        self.drop_prob = drop_prob\n",
    "        self.n_layers = n_layers\n",
    "        self.n_hidden = n_hidden\n",
    "        self.chars = tokens\n",
    "\n",
    "        self.lstm = nn.LSTM(num_chars, n_hidden, n_layers, dropout=drop_prob, batch_first=True)\n",
    "        self.dropout = nn.Dropout(drop_prob)\n",
    "        self.fc = nn.Linear(n_hidden, num_chars)\n",
    "\n",
    "    def forward(self, input_seqs, hidden):\n",
    "        # pass through lstm\n",
    "        all_outputs, hidden = self.lstm(input_seqs, hidden)\n",
    "\n",
    "        # pass through dropout\n",
    "        all_outputs = self.dropout(all_outputs)\n",
    "\n",
    "        # pass through fc layer\n",
    "        all_outputs = self.fc(all_outputs)\n",
    "\n",
    "        # return the cell_state and hidden tensor\n",
    "        return all_outputs, hidden"
   ]
  },
  {
   "cell_type": "markdown",
   "metadata": {
    "id": "OhpRd8mLEPhW"
   },
   "source": [
    "# Model training"
   ]
  },
  {
   "cell_type": "markdown",
   "metadata": {
    "id": "mrpDIvXI51vj"
   },
   "source": [
    "### Tokenization"
   ]
  },
  {
   "cell_type": "code",
   "execution_count": null,
   "metadata": {
    "colab": {
     "base_uri": "https://localhost:8080/",
     "height": 34
    },
    "executionInfo": {
     "elapsed": 13494,
     "status": "ok",
     "timestamp": 1588481321019,
     "user": {
      "displayName": "yiran cao",
      "photoUrl": "",
      "userId": "15429682256155533358"
     },
     "user_tz": 240
    },
    "id": "T8ODy4-b55sx",
    "outputId": "cabf9033-a07d-4a72-a64d-918aa28de79d"
   },
   "outputs": [
    {
     "data": {
      "text/plain": [
       "array([47, 73, 88, ..., 36, 22, 57])"
      ]
     },
     "execution_count": 96,
     "metadata": {
      "tags": []
     },
     "output_type": "execute_result"
    }
   ],
   "source": [
    "# Translate character to integer\n",
    "data = np.array([char2int[x] for x in data])\n",
    "data"
   ]
  },
  {
   "cell_type": "markdown",
   "metadata": {
    "id": "ojBhkT9g5ri5"
   },
   "source": [
    "### Training testing split"
   ]
  },
  {
   "cell_type": "code",
   "execution_count": null,
   "metadata": {
    "colab": {
     "base_uri": "https://localhost:8080/",
     "height": 119
    },
    "executionInfo": {
     "elapsed": 13482,
     "status": "ok",
     "timestamp": 1588481321020,
     "user": {
      "displayName": "yiran cao",
      "photoUrl": "",
      "userId": "15429682256155533358"
     },
     "user_tz": 240
    },
    "id": "vLXTXDwD5rE1",
    "outputId": "e6c53731-dc65-443b-d379-cc0b01352827"
   },
   "outputs": [
    {
     "name": "stdout",
     "output_type": "stream",
     "text": [
      "21702253\n",
      "19532027\n",
      "[78 57 78 ... 36 22 57]\n",
      "2170226\n",
      "[47 73 88 ... 78 78 78]\n",
      "19532027\n"
     ]
    }
   ],
   "source": [
    "# Split training and validation data, 9:1\n",
    "train_len = math.floor(data.size * 0.9)\n",
    "print(data.size)\n",
    "print(train_len)\n",
    "val_data = data[train_len:]\n",
    "print(val_data)\n",
    "print(val_data.size)\n",
    "data = data[:train_len]\n",
    "print(data)\n",
    "print(data.size)"
   ]
  },
  {
   "cell_type": "markdown",
   "metadata": {
    "id": "fTUdiqgR5sfU"
   },
   "source": [
    "### Training pipeline"
   ]
  },
  {
   "cell_type": "code",
   "execution_count": null,
   "metadata": {
    "colab": {
     "base_uri": "https://localhost:8080/",
     "height": 187
    },
    "executionInfo": {
     "elapsed": 718958,
     "status": "ok",
     "timestamp": 1588482026509,
     "user": {
      "displayName": "yiran cao",
      "photoUrl": "",
      "userId": "15429682256155533358"
     },
     "user_tz": 240
    },
    "id": "TBphYI_mEQ2j",
    "outputId": "e9f620ff-e4ed-41dc-d778-b3b7fe6916bf"
   },
   "outputs": [
    {
     "name": "stdout",
     "output_type": "stream",
     "text": [
      "Epoch  0 : validation loss  2.560737742619081\n",
      "Epoch  1 : validation loss  2.665734747594053\n",
      "Epoch  2 : validation loss  2.7151898714629086\n",
      "Epoch  3 : validation loss  2.7258578207005155\n",
      "Epoch  4 : validation loss  2.8032911365682427\n",
      "Epoch  5 : validation loss  2.8305734280835497\n",
      "Epoch  6 : validation loss  2.863573606041345\n",
      "Epoch  7 : validation loss  2.9030685878612776\n",
      "Epoch  8 : validation loss  2.8759359365159813\n",
      "Epoch  9 : validation loss  2.9874897904016753\n"
     ]
    }
   ],
   "source": [
    "# Initialize the model\n",
    "net = CharRNN(chars, n_hidden=256, n_layers=3)\n",
    "net.train() # Training mode\n",
    "net.to(device) # Use GPU\n",
    "\n",
    "# Loss and optimizer\n",
    "optimizer = torch.optim.Adam(net.parameters(), lr=lr) \n",
    "loss_function = torch.nn.CrossEntropyLoss()\n",
    "\n",
    "# Train the model\n",
    "train_history = {'epoch': [], 'step': [], 'loss': [], 'val_loss': []}\n",
    "for epoch in range(num_epochs):\n",
    "    hidden = None\n",
    "    \n",
    "    for input_seqs, labels in data_loader(data, num_seqs, seq_length):\n",
    "        # Data transformation\n",
    "        input_seqs = one_hot_encoding(input_seqs, num_chars)\n",
    "        input_seqs = torch.from_numpy(input_seqs).to(device) \n",
    "        labels = torch.tensor(labels, dtype=torch.long).to(device)\n",
    "        \n",
    "        # Forward pass\n",
    "        \n",
    "        # set all the gradient variables zero\n",
    "        optimizer.zero_grad()\n",
    "\n",
    "        # call model forward and get the outputs\n",
    "        all_outputs, hidden = net.forward(input_seqs, hidden)\n",
    "        \n",
    "        # compute the loss\n",
    "        loss = loss_function(all_outputs.view(num_seqs * seq_length, num_chars), labels.view(num_seqs * seq_length))\n",
    "        \n",
    "        # Backward pass\n",
    "\n",
    "        # compute the gradient\n",
    "        loss.backward()\n",
    "\n",
    "        # gradient clipping, gradient has norm at most 6\n",
    "        nn.utils.clip_grad_norm_(net.parameters(), 6)\n",
    "        \n",
    "        # update the weights\n",
    "        optimizer.step()\n",
    "        \n",
    "        # Detach hidden state and cell state from the graph\n",
    "        hidden = (hidden[0].detach(), hidden[1].detach())\n",
    "    \n",
    "    # validation\n",
    "    with torch.no_grad():\n",
    "        val_hidden = None\n",
    "        val_loss_lst = []\n",
    "        \n",
    "        for input_seqs, labels in data_loader(val_data, num_seqs, seq_length):\n",
    "\n",
    "            # Data transformation\n",
    "            input_seqs = one_hot_encoding(input_seqs, num_chars)\n",
    "            input_seqs = torch.from_numpy(input_seqs).to(device)\n",
    "            labels = torch.tensor(labels, dtype=torch.long).to(device)\n",
    "\n",
    "            # Forward pass\n",
    "            all_outputs, val_hidden = net.forward(input_seqs, hidden)\n",
    "            \n",
    "            # Compute loss\n",
    "            val_loss = loss_function(all_outputs.view(num_seqs * seq_length, num_chars), labels.view(num_seqs * seq_length))\n",
    "            val_loss_lst.append(val_loss.item())\n",
    "        \n",
    "        # Compute average validation loss\n",
    "        mean_val_loss = np.mean(val_loss_lst)\n",
    "        print('Epoch ', epoch, ': validation loss ', mean_val_loss)\n",
    "        \n",
    "        # track progress\n",
    "        train_history['epoch'].append(epoch+1)\n",
    "        train_history['loss'].append(loss.item())\n",
    "        train_history['val_loss'].append(mean_val_loss)\n",
    "    \n",
    "    # save model checkpoint if we get better performance\n",
    "    min_val_loss = 100\n",
    "    if mean_val_loss < min_val_loss:\n",
    "        save_checkpoint(net, optimizer, 'autocomplete.net', train_history=train_history)\n",
    "        min_val_loss = mean_val_loss"
   ]
  },
  {
   "cell_type": "code",
   "execution_count": null,
   "metadata": {
    "colab": {
     "base_uri": "https://localhost:8080/",
     "height": 367
    },
    "executionInfo": {
     "elapsed": 718947,
     "status": "ok",
     "timestamp": 1588482026511,
     "user": {
      "displayName": "yiran cao",
      "photoUrl": "",
      "userId": "15429682256155533358"
     },
     "user_tz": 240
    },
    "id": "MYWT40GAYWvp",
    "outputId": "a0cb8fd8-8e80-46e3-9beb-def7f5e9d202"
   },
   "outputs": [
    {
     "data": {
      "text/plain": [
       "Text(0.5, 1.0, 'Train and validation loss')"
      ]
     },
     "execution_count": 99,
     "metadata": {
      "tags": []
     },
     "output_type": "execute_result"
    },
    {
     "data": {
      "image/png": "[encoded data removed]",
      "text/plain": [
       "<Figure size 720x360 with 1 Axes>"
      ]
     },
     "metadata": {
      "needs_background": "light",
      "tags": []
     },
     "output_type": "display_data"
    }
   ],
   "source": [
    "# Visualize loss\n",
    "plt.figure(figsize=(10, 5))\n",
    "plt.plot(train_history['loss'], lw=3, c='red')\n",
    "plt.plot(train_history['val_loss'], lw=3, c='blue')\n",
    "plt.xlabel('Epoch')\n",
    "plt.ylabel('Loss')\n",
    "plt.title(\"Train and validation loss\")"
   ]
  },
  {
   "cell_type": "markdown",
   "metadata": {
    "id": "MhdHsv8B6NLU"
   },
   "source": [
    "# Model testing"
   ]
  },
  {
   "cell_type": "markdown",
   "metadata": {
    "id": "s8E_k6_v6T2i"
   },
   "source": [
    "### Helper function"
   ]
  },
  {
   "cell_type": "code",
   "execution_count": null,
   "metadata": {
    "id": "3Lm6sWtbEb49"
   },
   "outputs": [],
   "source": [
    "def prediction(net, input_seqs='import'):\n",
    "    net.to(device)\n",
    "    net.eval()\n",
    "\n",
    "    chars = []\n",
    "    hidden = None\n",
    "    for input_seq in input_seqs:\n",
    "        with torch.no_grad():\n",
    "            input_seq = np.array([[char2int[input_seq]]])\n",
    "            input_seq = one_hot_encoding(input_seq, len(net.chars))\n",
    "            input_seq = torch.from_numpy(input_seq).to(device)\n",
    "            out, hidden = net.forward(input_seq, hidden)\n",
    "            \n",
    "            probs = torch.nn.functional.softmax(out, dim=2).data.to('cpu')\n",
    "            char = int2char[int(torch.argmax(probs))]\n",
    "        chars.append(char)\n",
    "        \n",
    "        if char == '\\n': break\n",
    "            \n",
    "    return ''.join(chars)"
   ]
  },
  {
   "cell_type": "markdown",
   "metadata": {
    "id": "w7LqOAM66arv"
   },
   "source": [
    "### Testing cases"
   ]
  },
  {
   "cell_type": "code",
   "execution_count": null,
   "metadata": {
    "id": "UaXnrigQ6eEY"
   },
   "outputs": [],
   "source": [
    "# load the trained model from checkpoint\n",
    "net = load_checkpoint('autocomplete.net')"
   ]
  },
  {
   "cell_type": "code",
   "execution_count": null,
   "metadata": {
    "colab": {
     "base_uri": "https://localhost:8080/",
     "height": 51
    },
    "executionInfo": {
     "elapsed": 718927,
     "status": "ok",
     "timestamp": 1588482026515,
     "user": {
      "displayName": "yiran cao",
      "photoUrl": "",
      "userId": "15429682256155533358"
     },
     "user_tz": 240
    },
    "id": "s1frSImaE4BB",
    "outputId": "7411d67f-6aa5-4f59-f149-390b0d48552a"
   },
   "outputs": [
    {
     "name": "stdout",
     "output_type": "stream",
     "text": [
      "from torch.nn.functional as F\n",
      "\n"
     ]
    }
   ],
   "source": [
    "# Test case 1\n",
    "input_seqs = 'from torc'\n",
    "print(input_seqs + prediction(net, input_seqs=input_seqs))"
   ]
  },
  {
   "cell_type": "code",
   "execution_count": null,
   "metadata": {
    "colab": {
     "base_uri": "https://localhost:8080/",
     "height": 51
    },
    "executionInfo": {
     "elapsed": 718920,
     "status": "ok",
     "timestamp": 1588482026516,
     "user": {
      "displayName": "yiran cao",
      "photoUrl": "",
      "userId": "15429682256155533358"
     },
     "user_tz": 240
    },
    "id": "wSGNQ1F2pFZN",
    "outputId": "ae7e67ac-ef9a-4b8c-8bac-e8ed2fe4936d"
   },
   "outputs": [
    {
     "name": "stdout",
     "output_type": "stream",
     "text": [
      "import matplotlib.pyplot as plt\n",
      "\n"
     ]
    }
   ],
   "source": [
    "# Test case 2\n",
    "input_seqs = 'import matpl'\n",
    "print(input_seqs + prediction(net, input_seqs=input_seqs))"
   ]
  },
  {
   "cell_type": "code",
   "execution_count": null,
   "metadata": {
    "id": "TIBrpr9E9fp3"
   },
   "outputs": [],
   "source": []
  }
 ],
 "metadata": {
  "accelerator": "GPU",
  "colab": {
   "collapsed_sections": [
    "goZynvEwDbVO"
   ],
   "name": "autocompletion.ipynb",
   "provenance": [
    {
     "file_id": "16GnAwQwcm470SCS3PV5rNEIlXOpVe1bB",
     "timestamp": 1586712807562
    }
   ],
   "toc_visible": true
  },
  "kernelspec": {
   "display_name": "Python 3",
   "language": "python",
   "name": "python3"
  },
  "language_info": {
   "codemirror_mode": {
    "name": "ipython",
    "version": 3
   },
   "file_extension": ".py",
   "mimetype": "text/x-python",
   "name": "python",
   "nbconvert_exporter": "python",
   "pygments_lexer": "ipython3",
   "version": "3.9.0"
  }
 },
 "nbformat": 4,
 "nbformat_minor": 1
}
